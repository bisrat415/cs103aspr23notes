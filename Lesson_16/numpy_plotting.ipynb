{
 "cells": [
  {
   "cell_type": "markdown",
   "metadata": {},
   "source": [
    "# Intro to numpy plotting\n",
    "We show how to create and manipulate ndarrays using numpy\n",
    "We will mostly follow this tutorial\n",
    "* [numpy for beginners](https://numpy.org/doc/stable/user/absolute_beginners.html)\n",
    "\n",
    "but here are some more links that may be of interest\n",
    "* [numpy user manual](https://numpy.org/doc/stable/user/index.html#user)\n",
    "* [numpy plotting tutorial](https://scipy-lectures.org/intro/matplotlib/index.html#other-types-of-plots-examples-and-exercises)\n",
    "\n"
   ]
  },
  {
   "cell_type": "markdown",
   "metadata": {},
   "source": [
    "# Key idea behind Numpy\n",
    "The key idea with numpy is that it allows you to create multidimensional, fixed-size arrays (ndarray) that hold one value (typically float or int)\n",
    "and that you can apply all of the usual math functions to \n",
    "```\n",
    "(+,-,*,/,\\**, <,==, sin, cos, exp, log\n",
    "```\n",
    "The ndarray data structure is implemented so that all of these operation are time and space efficient and allow you to work with very large datasets."
   ]
  },
  {
   "cell_type": "code",
   "execution_count": null,
   "metadata": {},
   "outputs": [],
   "source": [
    "import numpy as np\n",
    "from matplotlib import pyplot as plt\n"
   ]
  },
  {
   "cell_type": "markdown",
   "metadata": {},
   "source": [
    "# creating an ndarray\n",
    "There are many ways to create ndarrays (also aliased as simply array) in numpy"
   ]
  },
  {
   "cell_type": "code",
   "execution_count": null,
   "metadata": {},
   "outputs": [],
   "source": [
    "X = np.arange(0,3)\n",
    "print(X)\n",
    "print('....')\n",
    "Y = np.zeros((2,5))\n",
    "print(Y)\n",
    "print('.....')\n",
    "Z = np.ones(10)\n",
    "print(Z)\n",
    "print('....')\n",
    "W = np.linspace(0,3,31)\n",
    "print(W)"
   ]
  },
  {
   "cell_type": "code",
   "execution_count": null,
   "metadata": {},
   "outputs": [],
   "source": [
    "X = np.linspace(-np.pi,np.pi,100)\n",
    "X"
   ]
  },
  {
   "cell_type": "markdown",
   "metadata": {},
   "source": [
    "# Plotting numerical functions using ndarrays\n",
    "We could do this with straight python but it would require list comprehensions and would not be as efficient"
   ]
  },
  {
   "cell_type": "code",
   "execution_count": null,
   "metadata": {},
   "outputs": [],
   "source": [
    "X = np.linspace(-np.pi,np.pi,100)\n",
    "S = np.sin(X)\n",
    "C = np.cos(X)\n",
    "plt.plot(X,S,label='sin')\n",
    "plt.plot(X,C,label='cos')\n",
    "plt.legend()\n",
    "plt.grid()"
   ]
  },
  {
   "cell_type": "code",
   "execution_count": null,
   "metadata": {},
   "outputs": [],
   "source": [
    "X = np.linspace(-np.pi,np.pi,100)\n",
    "S = np.sin(X)\n",
    "C = np.cos(X)\n",
    "Y = C+3*S*C**3 \n",
    "plt.plot(X, Y,label='c+3sc^3')\n",
    "#plt.plot(X,C,label='cos')\n",
    "plt.legend()\n",
    "plt.grid()\n",
    "plt.title(\"Plot of y = cos(x)* 3*sin(x)*cos(x)^3\", fontsize=16)"
   ]
  },
  {
   "cell_type": "code",
   "execution_count": null,
   "metadata": {},
   "outputs": [],
   "source": [
    "X=np.linspace(-1,3,100)\n",
    "Y = X**3 - 3*X**2\n",
    "plt.plot(X,Y)\n",
    "\n",
    "plt.grid()\n",
    "plt.title(\"plot of y = x^3-3*x^2\",fontsize=16)"
   ]
  },
  {
   "cell_type": "markdown",
   "metadata": {},
   "source": [
    "# 3D Plots\n",
    "The easiest way to create 3d plots is with the np.meshgrid function.\n",
    "X,Y = np.meshgrid(U,V)\n",
    "creates two 2-dimensional ndarrays X and Y from the 2 1-dimensional ndarrays U,V\n",
    "We think of U,V as being the x and y axes on the cartesian plane, and then\n",
    "X,Y are the functions on the plane that return the x and y values respectively \n"
   ]
  },
  {
   "cell_type": "code",
   "execution_count": null,
   "metadata": {},
   "outputs": [],
   "source": [
    "U=np.linspace(0,3,4)\n",
    "V=np.linspace(0,3,4)\n",
    "X,Y = np.meshgrid(U,V)\n",
    "print('U=')\n",
    "print(U)\n",
    "print('....')\n",
    "print('X=')\n",
    "print(X)\n",
    "print('---')\n",
    "print('V=')\n",
    "print(V)\n",
    "print('....')\n",
    "print(\"Y=\")\n",
    "print(Y)\n",
    "print('---')\n",
    "print('X**2 - Y**2=')\n",
    "print(X**2-Y**2)"
   ]
  },
  {
   "cell_type": "markdown",
   "metadata": {},
   "source": [
    "# 3D plots\n",
    "We can now make a 3d plot using matplotlib"
   ]
  },
  {
   "cell_type": "code",
   "execution_count": null,
   "metadata": {},
   "outputs": [],
   "source": [
    "fig=plt.figure()\n",
    "ax = fig.add_subplot(projection='3d')\n",
    "X=np.linspace(-3,3,20)\n",
    "Y=np.linspace(-3,3,20)\n",
    "X,Y = np.meshgrid(X,Y)\n",
    "Z=(X**2-Y**2)*4\n",
    "ax.plot_surface(X, Y, X**2-Y**2, rstride=1, cstride=1, cmap='viridis')"
   ]
  },
  {
   "cell_type": "code",
   "execution_count": null,
   "metadata": {},
   "outputs": [],
   "source": []
  },
  {
   "cell_type": "code",
   "execution_count": null,
   "metadata": {},
   "outputs": [],
   "source": []
  }
 ],
 "metadata": {
  "kernelspec": {
   "display_name": "Python 3",
   "language": "python",
   "name": "python3"
  },
  "language_info": {
   "codemirror_mode": {
    "name": "ipython",
    "version": 3
   },
   "file_extension": ".py",
   "mimetype": "text/x-python",
   "name": "python",
   "nbconvert_exporter": "python",
   "pygments_lexer": "ipython3",
   "version": "3.8.5"
  }
 },
 "nbformat": 4,
 "nbformat_minor": 4
}
