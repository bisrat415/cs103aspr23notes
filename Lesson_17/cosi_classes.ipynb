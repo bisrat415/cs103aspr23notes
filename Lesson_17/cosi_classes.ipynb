{
 "cells": [
  {
   "cell_type": "markdown",
   "metadata": {},
   "source": [
    "# Analysis of Brandeis Computer Science classes\n",
    "Here we show how to use pandas to analyze the Brandeis course data stored in data/courses\n",
    "\n",
    "Some questions we can try to answer\n",
    "* which faculty have taught the most students over the Fall2004-Summer2021 interval\n",
    "* which departments offer the most courses\n",
    "* which departments have had the most students\n",
    "* how have the enrollents by departments changed\n",
    "* etc, as in PA01\n",
    "\n",
    "We'll show how to use pivot tables and aggregation to answer some of these.\n",
    "\n",
    "This notebook shows how to use aggregation with groupby, pivot tables, and how to create new columns by applying some function to other columns.\n"
   ]
  },
  {
   "cell_type": "code",
   "execution_count": null,
   "metadata": {},
   "outputs": [],
   "source": [
    "import numpy as np\n",
    "import pandas as pd\n",
    "from matplotlib import pyplot as plt"
   ]
  },
  {
   "cell_type": "markdown",
   "metadata": {},
   "source": [
    "First we read in the data from Fall 2004 to Summer 2021 with minimal info about each course"
   ]
  },
  {
   "cell_type": "code",
   "execution_count": null,
   "metadata": {},
   "outputs": [],
   "source": [
    "df = pd.read_csv('data2/classes/courses.csv')\n",
    "df"
   ]
  },
  {
   "cell_type": "code",
   "execution_count": null,
   "metadata": {},
   "outputs": [],
   "source": [
    "cs = df[df['subj']=='COSI'].copy()\n",
    "cs"
   ]
  },
  {
   "cell_type": "code",
   "execution_count": null,
   "metadata": {},
   "outputs": [],
   "source": [
    "cs['inst'] = cs['inst'].apply(lambda x: \"Hickey, Timothy\" if x==\"Hickey, Timothy J\" else x)"
   ]
  },
  {
   "cell_type": "markdown",
   "metadata": {},
   "source": [
    "# Finding teachers with the most students\n",
    "The easiest way to do this is with a groupby it shows the three stages of groupby\n",
    "1. grouping of rows together based on the value in a column ('inst')\n",
    "1. projection of those rows into a set of values (what value are we interested in) (enr)\n",
    "1. aggregation of those values into a single value with some operator from arrays to numbers (sum)"
   ]
  },
  {
   "cell_type": "code",
   "execution_count": null,
   "metadata": {},
   "outputs": [],
   "source": [
    "#fac = df.groupby(['inst','subject'])['enr'].agg(sum)\n",
    "#fac\n",
    "fac = cs.groupby(['inst','subj'])\n",
    "fac = fac['enr'].agg([sum, np.mean, np.max,len])\n",
    "fac = fac.sort_values(ascending=False,by='len')\n",
    "fac.head(20)\n",
    "\n"
   ]
  },
  {
   "cell_type": "markdown",
   "metadata": {},
   "source": [
    "## Sorting the Series\n",
    "We can sort the values if we want (and here I am then reversing them by iterating with a step of -1 through the array) and we can use .head(N) and .tail(N) to look at either end of the sorted series."
   ]
  },
  {
   "cell_type": "code",
   "execution_count": null,
   "metadata": {},
   "outputs": [],
   "source": [
    "fac = fac.sort_values(ascending=False,by='sum')\n",
    "fac.head(20)\n"
   ]
  },
  {
   "cell_type": "code",
   "execution_count": null,
   "metadata": {},
   "outputs": [],
   "source": [
    "fac.head(50)"
   ]
  },
  {
   "cell_type": "code",
   "execution_count": null,
   "metadata": {},
   "outputs": [],
   "source": [
    "df"
   ]
  },
  {
   "cell_type": "markdown",
   "metadata": {},
   "source": [
    "# Restricting to a time interval\n",
    "Let's do the same but just look for the past 4 years, i.e. from Fall2017 to Summer 2021 which are the codes 1173 to 1212.\n"
   ]
  },
  {
   "cell_type": "code",
   "execution_count": null,
   "metadata": {},
   "outputs": [],
   "source": [
    "df2 = cs[cs['code']>=1193]\n",
    "df2\n",
    "#islater = df['code']>= 1173\n",
    "#df[islater]"
   ]
  },
  {
   "cell_type": "markdown",
   "metadata": {},
   "source": [
    "## aggregate by summing the enrollments for each subject"
   ]
  },
  {
   "cell_type": "code",
   "execution_count": null,
   "metadata": {},
   "outputs": [],
   "source": [
    "insts = df2.groupby(['inst'])['enr'].agg(sum)\n",
    "insts = insts.sort_values(ascending=False)\n",
    "insts.head(20)\n",
    "                     \n"
   ]
  },
  {
   "cell_type": "markdown",
   "metadata": {},
   "source": [
    "# Time series\n",
    "Now lets try to get time series data and plot the enrollments in a department by year.\n",
    "Let's first add a new column giving the academic year, so Fall2004 and Spring 2005 and Summer2005 would all be 2004\n"
   ]
  },
  {
   "cell_type": "code",
   "execution_count": null,
   "metadata": {},
   "outputs": [],
   "source": [
    "def code2year(code):\n",
    "    ''' returns the academic year corresponding to a code'''\n",
    "    code=str(code)\n",
    "    year = int(\"20\"+code[1:-1])\n",
    "    if code[-1]!='3':\n",
    "        year = year -1\n",
    "    return year\n",
    "print(code2year('1051'))\n",
    "\n"
   ]
  },
  {
   "cell_type": "markdown",
   "metadata": {},
   "source": [
    "### the original data frame has no 'year' column"
   ]
  },
  {
   "cell_type": "code",
   "execution_count": null,
   "metadata": {},
   "outputs": [],
   "source": [
    "df"
   ]
  },
  {
   "cell_type": "markdown",
   "metadata": {},
   "source": [
    "### create a new column for the year and the courseid\n",
    "We can apply the code2year function to each of the integers in the 'code' column to get a new series,\n",
    "and then assign that series to be a new column 'year' of the df dataframe"
   ]
  },
  {
   "cell_type": "code",
   "execution_count": null,
   "metadata": {},
   "outputs": [],
   "source": [
    "cs['year'] = cs['code'].apply(code2year)\n",
    "cs"
   ]
  },
  {
   "cell_type": "code",
   "execution_count": null,
   "metadata": {},
   "outputs": [],
   "source": [
    "cs['courseid'] = cs['num'].apply(str)+cs['suf']\n",
    "cs"
   ]
  },
  {
   "cell_type": "code",
   "execution_count": null,
   "metadata": {},
   "outputs": [],
   "source": [
    "cs"
   ]
  },
  {
   "cell_type": "markdown",
   "metadata": {},
   "source": [
    "# Group by the year and subject\n",
    "This creates a new Series with a multi-index containing both year and subject"
   ]
  },
  {
   "cell_type": "code",
   "execution_count": null,
   "metadata": {},
   "outputs": [],
   "source": []
  },
  {
   "cell_type": "code",
   "execution_count": null,
   "metadata": {},
   "outputs": [],
   "source": [
    "cs_enr = cs.groupby('year')['enr'].agg(sum)\n",
    "cs_enr.plot()\n",
    "plt.axis([2004,2021,0,2500])\n",
    "plt.grid()\n"
   ]
  },
  {
   "cell_type": "code",
   "execution_count": null,
   "metadata": {},
   "outputs": [],
   "source": [
    "classes_enr = cs.groupby(['courseid','year'])['enr'].agg(sum)\n",
    "classes_enr"
   ]
  },
  {
   "cell_type": "code",
   "execution_count": null,
   "metadata": {},
   "outputs": [],
   "source": [
    "classes_enr = classes_enr.reset_index(level=['courseid'])\n",
    "classes_enr"
   ]
  },
  {
   "cell_type": "markdown",
   "metadata": {},
   "source": [
    "# Create a Pivot table of enrollments by classes and year\n",
    "Now we do the usual construction of a pivot table"
   ]
  },
  {
   "cell_type": "code",
   "execution_count": null,
   "metadata": {},
   "outputs": [],
   "source": [
    "classes_pt =  pd.pivot_table(classes_enr, values='enr', index=[\"year\"], columns=[\"courseid\"])\n",
    "classes_pt"
   ]
  },
  {
   "cell_type": "markdown",
   "metadata": {},
   "source": [
    "classes_pt['CS0'] = classes_pt['2A'].fillna(0)+ classes_pt['10A'].fillna(0)+ classes_pt['11A'].fillna(0)# Plot selected columns of the pivot table\n",
    "We can now select a few columns and plot them!"
   ]
  },
  {
   "cell_type": "code",
   "execution_count": null,
   "metadata": {},
   "outputs": [],
   "source": [
    "classes_pt['CS0'] = classes_pt['2A'].fillna(0)+ classes_pt['10A'].fillna(0)+ classes_pt['11A'].fillna(0)\n",
    "classes_pt['31'] = classes_pt['31A'].fillna(0) + classes_pt['131A'].fillna(0)\n",
    "classes_pt['30'] = classes_pt['30A'].fillna(0) + classes_pt['130A'].fillna(0)\n",
    "classes_pt['64'] = classes_pt['65A'].fillna(0) + classes_pt['164A'].fillna(0)"
   ]
  },
  {
   "cell_type": "code",
   "execution_count": null,
   "metadata": {},
   "outputs": [],
   "source": [
    "classes_pt[['CS0','12B','21A']].plot(figsize=(15,10))\n",
    "plt.legend()\n",
    "plt.grid()\n",
    "plt.title('Total number of students who have taken classes, by year')\n",
    "plt.savefig('images/introcs.png')"
   ]
  },
  {
   "cell_type": "code",
   "execution_count": null,
   "metadata": {},
   "outputs": [],
   "source": [
    "classes_pt[['CS0','12B','21A','29A','31','30','64']].cumsum().plot(figsize=(15,10))\n",
    "plt.legend()\n",
    "plt.grid()\n",
    "plt.title('Total number of students who have taken classes, by year')"
   ]
  },
  {
   "cell_type": "markdown",
   "metadata": {},
   "source": [
    "## Most popular Computer Science courses at Brandeis"
   ]
  },
  {
   "cell_type": "code",
   "execution_count": null,
   "metadata": {},
   "outputs": [],
   "source": [
    "classes_pt"
   ]
  },
  {
   "cell_type": "code",
   "execution_count": null,
   "metadata": {},
   "outputs": [],
   "source": [
    "df2 = cs[cs['code']>1042]\n",
    "courses = df2.groupby(['courseid','title'])['enr'].agg(sum)\n",
    "courses.sort_values(inplace=True, ascending=False)\n",
    "courses"
   ]
  },
  {
   "cell_type": "code",
   "execution_count": null,
   "metadata": {},
   "outputs": [],
   "source": [
    "fac = cs.groupby('courseid')\n",
    "fac = fac['enr'].agg([sum])\n",
    "fac = fac.sort_values(ascending=False, by='sum').head(40)\n",
    "fac"
   ]
  },
  {
   "cell_type": "code",
   "execution_count": null,
   "metadata": {},
   "outputs": [],
   "source": [
    "pc1 = cs.groupby('courseid')['inst'].agg(list).sort_values(ascending=False)\n",
    "pc2 = pc1.apply(lambda x: len(x))\n",
    "pc = pd.DataFrame([pc1,pc2])\n",
    "pc"
   ]
  },
  {
   "cell_type": "code",
   "execution_count": null,
   "metadata": {},
   "outputs": [],
   "source": []
  }
 ],
 "metadata": {
  "kernelspec": {
   "display_name": "Python 3",
   "language": "python",
   "name": "python3"
  },
  "language_info": {
   "codemirror_mode": {
    "name": "ipython",
    "version": 3
   },
   "file_extension": ".py",
   "mimetype": "text/x-python",
   "name": "python",
   "nbconvert_exporter": "python",
   "pygments_lexer": "ipython3",
   "version": "3.8.5"
  }
 },
 "nbformat": 4,
 "nbformat_minor": 4
}
