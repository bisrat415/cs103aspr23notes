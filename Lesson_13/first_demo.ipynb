{
 "cells": [
  {
   "cell_type": "markdown",
   "metadata": {},
   "source": [
    "# Demo of Jupyter lab\n",
    "We will show how to mix text and code!\n",
    "* text uses markdown\n",
    "* code will be in Python\n",
    "\n",
    "``` python\n",
    "def hello():\n",
    "    print('hola!')\n",
    "```\n",
    "\n",
    "here is some bash code\n",
    "``` bash\n",
    "pip3 install jupyter\n",
    "jupyter-lab\n",
    "```\n",
    "which is how you install and run jupyter lab"
   ]
  },
  {
   "cell_type": "code",
   "execution_count": 1,
   "metadata": {},
   "outputs": [
    {
     "name": "stdout",
     "output_type": "stream",
     "text": [
      "hola!\n",
      "hola!\n",
      "hola!\n",
      "hola!\n",
      "hola!\n",
      "hola!\n",
      "hola!\n",
      "hola!\n",
      "hola!\n",
      "hola!\n"
     ]
    }
   ],
   "source": [
    "def hello():\n",
    "    print('hola!')\n",
    "for i in range(10):\n",
    "    hello()\n"
   ]
  },
  {
   "cell_type": "raw",
   "metadata": {},
   "source": [
    "# this is raw\n",
    "it can't be executed and it is not markdown!\n"
   ]
  },
  {
   "cell_type": "code",
   "execution_count": null,
   "metadata": {},
   "outputs": [],
   "source": []
  }
 ],
 "metadata": {
  "kernelspec": {
   "display_name": "Python 3",
   "language": "python",
   "name": "python3"
  },
  "language_info": {
   "codemirror_mode": {
    "name": "ipython",
    "version": 3
   },
   "file_extension": ".py",
   "mimetype": "text/x-python",
   "name": "python",
   "nbconvert_exporter": "python",
   "pygments_lexer": "ipython3",
   "version": "3.8.5"
  }
 },
 "nbformat": 4,
 "nbformat_minor": 4
}
